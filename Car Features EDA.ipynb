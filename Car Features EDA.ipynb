{
 "cells": [
  {
   "cell_type": "markdown",
   "id": "828342a8",
   "metadata": {},
   "source": [
    "# Exploratory Data Analysis on Car Features and Price"
   ]
  },
  {
   "cell_type": "markdown",
   "id": "2227edba",
   "metadata": {},
   "source": [
    "The dataset used here is downloaded from Kaggle.\n",
    "\n",
    "The goal of this EDA is to answer following questions:\n",
    "1. Effects of features on the price\n",
    "2. How does the brand affect the price?\n",
    "3. Price VS. popularity?\n",
    "4. Does Brand affect the Popularity?\n"
   ]
  },
  {
   "cell_type": "markdown",
   "id": "53af2dbb",
   "metadata": {},
   "source": [
    "##### 1. Importing all the necessary libraries\n"
   ]
  },
  {
   "cell_type": "code",
   "execution_count": 1,
   "id": "ee906da5",
   "metadata": {},
   "outputs": [],
   "source": [
    "import pandas as pd\n",
    "import numpy as np\n",
    "import seaborn as sns                       #visualisation\n",
    "import matplotlib.pyplot as plt             #visualisation\n",
    "%matplotlib inline     \n",
    "sns.set(color_codes=True)"
   ]
  },
  {
   "cell_type": "markdown",
   "id": "f6cb18b8",
   "metadata": {},
   "source": [
    "###### %matplotlib inline is a magic function\n",
    "It means that any graph which we are creating as a part of our code will appear in the same notebook and not in separate window which would happen if we have not used this magic statement.\n",
    "\n",
    "###### sns.set(color_codes=True)\n",
    "It will load seaborn's default theme and color palette to the session."
   ]
  },
  {
   "cell_type": "markdown",
   "id": "dd035ea3",
   "metadata": {},
   "source": [
    "##### 2. Loading data into dataframes using Pandas\n",
    "\n",
    "The file is a csv file hence we will use the read_csv function"
   ]
  },
  {
   "cell_type": "code",
   "execution_count": 2,
   "id": "bf4d96ea",
   "metadata": {},
   "outputs": [
    {
     "data": {
      "text/html": [
       "<div>\n",
       "<style scoped>\n",
       "    .dataframe tbody tr th:only-of-type {\n",
       "        vertical-align: middle;\n",
       "    }\n",
       "\n",
       "    .dataframe tbody tr th {\n",
       "        vertical-align: top;\n",
       "    }\n",
       "\n",
       "    .dataframe thead th {\n",
       "        text-align: right;\n",
       "    }\n",
       "</style>\n",
       "<table border=\"1\" class=\"dataframe\">\n",
       "  <thead>\n",
       "    <tr style=\"text-align: right;\">\n",
       "      <th></th>\n",
       "      <th>Make</th>\n",
       "      <th>Model</th>\n",
       "      <th>Year</th>\n",
       "      <th>Engine Fuel Type</th>\n",
       "      <th>Engine HP</th>\n",
       "      <th>Engine Cylinders</th>\n",
       "      <th>Transmission Type</th>\n",
       "      <th>Driven_Wheels</th>\n",
       "      <th>Number of Doors</th>\n",
       "      <th>Market Category</th>\n",
       "      <th>Vehicle Size</th>\n",
       "      <th>Vehicle Style</th>\n",
       "      <th>highway MPG</th>\n",
       "      <th>city mpg</th>\n",
       "      <th>Popularity</th>\n",
       "      <th>MSRP</th>\n",
       "    </tr>\n",
       "  </thead>\n",
       "  <tbody>\n",
       "    <tr>\n",
       "      <th>0</th>\n",
       "      <td>BMW</td>\n",
       "      <td>1 Series M</td>\n",
       "      <td>2011</td>\n",
       "      <td>premium unleaded (required)</td>\n",
       "      <td>335</td>\n",
       "      <td>6</td>\n",
       "      <td>MANUAL</td>\n",
       "      <td>rear wheel drive</td>\n",
       "      <td>2</td>\n",
       "      <td>Factory Tuner,Luxury,High-Performance</td>\n",
       "      <td>Compact</td>\n",
       "      <td>Coupe</td>\n",
       "      <td>26</td>\n",
       "      <td>19</td>\n",
       "      <td>3916</td>\n",
       "      <td>46135</td>\n",
       "    </tr>\n",
       "    <tr>\n",
       "      <th>1</th>\n",
       "      <td>BMW</td>\n",
       "      <td>1 Series</td>\n",
       "      <td>2011</td>\n",
       "      <td>premium unleaded (required)</td>\n",
       "      <td>300</td>\n",
       "      <td>6</td>\n",
       "      <td>MANUAL</td>\n",
       "      <td>rear wheel drive</td>\n",
       "      <td>2</td>\n",
       "      <td>Luxury,Performance</td>\n",
       "      <td>Compact</td>\n",
       "      <td>Convertible</td>\n",
       "      <td>28</td>\n",
       "      <td>19</td>\n",
       "      <td>3916</td>\n",
       "      <td>40650</td>\n",
       "    </tr>\n",
       "    <tr>\n",
       "      <th>2</th>\n",
       "      <td>BMW</td>\n",
       "      <td>1 Series</td>\n",
       "      <td>2011</td>\n",
       "      <td>premium unleaded (required)</td>\n",
       "      <td>300</td>\n",
       "      <td>6</td>\n",
       "      <td>MANUAL</td>\n",
       "      <td>rear wheel drive</td>\n",
       "      <td>2</td>\n",
       "      <td>Luxury,High-Performance</td>\n",
       "      <td>Compact</td>\n",
       "      <td>Coupe</td>\n",
       "      <td>28</td>\n",
       "      <td>20</td>\n",
       "      <td>3916</td>\n",
       "      <td>36350</td>\n",
       "    </tr>\n",
       "    <tr>\n",
       "      <th>3</th>\n",
       "      <td>BMW</td>\n",
       "      <td>1 Series</td>\n",
       "      <td>2011</td>\n",
       "      <td>premium unleaded (required)</td>\n",
       "      <td>230</td>\n",
       "      <td>6</td>\n",
       "      <td>MANUAL</td>\n",
       "      <td>rear wheel drive</td>\n",
       "      <td>2</td>\n",
       "      <td>Luxury,Performance</td>\n",
       "      <td>Compact</td>\n",
       "      <td>Coupe</td>\n",
       "      <td>28</td>\n",
       "      <td>18</td>\n",
       "      <td>3916</td>\n",
       "      <td>29450</td>\n",
       "    </tr>\n",
       "    <tr>\n",
       "      <th>4</th>\n",
       "      <td>BMW</td>\n",
       "      <td>1 Series</td>\n",
       "      <td>2011</td>\n",
       "      <td>premium unleaded (required)</td>\n",
       "      <td>230</td>\n",
       "      <td>6</td>\n",
       "      <td>MANUAL</td>\n",
       "      <td>rear wheel drive</td>\n",
       "      <td>2</td>\n",
       "      <td>Luxury</td>\n",
       "      <td>Compact</td>\n",
       "      <td>Convertible</td>\n",
       "      <td>28</td>\n",
       "      <td>18</td>\n",
       "      <td>3916</td>\n",
       "      <td>34500</td>\n",
       "    </tr>\n",
       "  </tbody>\n",
       "</table>\n",
       "</div>"
      ],
      "text/plain": [
       "  Make       Model  Year             Engine Fuel Type  Engine HP  \\\n",
       "0  BMW  1 Series M  2011  premium unleaded (required)        335   \n",
       "1  BMW    1 Series  2011  premium unleaded (required)        300   \n",
       "2  BMW    1 Series  2011  premium unleaded (required)        300   \n",
       "3  BMW    1 Series  2011  premium unleaded (required)        230   \n",
       "4  BMW    1 Series  2011  premium unleaded (required)        230   \n",
       "\n",
       "   Engine Cylinders Transmission Type     Driven_Wheels  Number of Doors  \\\n",
       "0                 6            MANUAL  rear wheel drive                2   \n",
       "1                 6            MANUAL  rear wheel drive                2   \n",
       "2                 6            MANUAL  rear wheel drive                2   \n",
       "3                 6            MANUAL  rear wheel drive                2   \n",
       "4                 6            MANUAL  rear wheel drive                2   \n",
       "\n",
       "                         Market Category Vehicle Size Vehicle Style  \\\n",
       "0  Factory Tuner,Luxury,High-Performance      Compact         Coupe   \n",
       "1                     Luxury,Performance      Compact   Convertible   \n",
       "2                Luxury,High-Performance      Compact         Coupe   \n",
       "3                     Luxury,Performance      Compact         Coupe   \n",
       "4                                 Luxury      Compact   Convertible   \n",
       "\n",
       "   highway MPG  city mpg  Popularity   MSRP  \n",
       "0           26        19        3916  46135  \n",
       "1           28        19        3916  40650  \n",
       "2           28        20        3916  36350  \n",
       "3           28        18        3916  29450  \n",
       "4           28        18        3916  34500  "
      ]
     },
     "execution_count": 2,
     "metadata": {},
     "output_type": "execute_result"
    }
   ],
   "source": [
    "df = pd.read_csv(\"data.csv\").convert_dtypes()\n",
    "\n",
    "#print first 5 data entries\n",
    "df.head(5)"
   ]
  },
  {
   "cell_type": "markdown",
   "id": "d2c3d753",
   "metadata": {},
   "source": [
    "##### 3. Checking the datatype of the columns"
   ]
  },
  {
   "cell_type": "code",
   "execution_count": 4,
   "id": "91d56895",
   "metadata": {},
   "outputs": [
    {
     "data": {
      "text/plain": [
       "Make                 string\n",
       "Model                string\n",
       "Year                  Int64\n",
       "Engine Fuel Type     string\n",
       "Engine HP             Int64\n",
       "Engine Cylinders      Int64\n",
       "Transmission Type    string\n",
       "Driven_Wheels        string\n",
       "Number of Doors       Int64\n",
       "Market Category      string\n",
       "Vehicle Size         string\n",
       "Vehicle Style        string\n",
       "highway MPG           Int64\n",
       "city mpg              Int64\n",
       "Popularity            Int64\n",
       "MSRP                  Int64\n",
       "dtype: object"
      ]
     },
     "execution_count": 4,
     "metadata": {},
     "output_type": "execute_result"
    }
   ],
   "source": [
    "df.dtypes"
   ]
  },
  {
   "cell_type": "markdown",
   "id": "d862bddd",
   "metadata": {},
   "source": [
    "##### 4. Removing columns which are not necessary for the analysis\n",
    "\n",
    "Dropping columns Engine Fuel type, Number of Doors and Market Category because it is not important for the analysis in our case."
   ]
  },
  {
   "cell_type": "code",
   "execution_count": 5,
   "id": "196edb32",
   "metadata": {},
   "outputs": [
    {
     "data": {
      "text/html": [
       "<div>\n",
       "<style scoped>\n",
       "    .dataframe tbody tr th:only-of-type {\n",
       "        vertical-align: middle;\n",
       "    }\n",
       "\n",
       "    .dataframe tbody tr th {\n",
       "        vertical-align: top;\n",
       "    }\n",
       "\n",
       "    .dataframe thead th {\n",
       "        text-align: right;\n",
       "    }\n",
       "</style>\n",
       "<table border=\"1\" class=\"dataframe\">\n",
       "  <thead>\n",
       "    <tr style=\"text-align: right;\">\n",
       "      <th></th>\n",
       "      <th>Make</th>\n",
       "      <th>Model</th>\n",
       "      <th>Year</th>\n",
       "      <th>Engine HP</th>\n",
       "      <th>Engine Cylinders</th>\n",
       "      <th>Transmission Type</th>\n",
       "      <th>Driven_Wheels</th>\n",
       "      <th>Vehicle Size</th>\n",
       "      <th>Vehicle Style</th>\n",
       "      <th>highway MPG</th>\n",
       "      <th>city mpg</th>\n",
       "      <th>Popularity</th>\n",
       "      <th>MSRP</th>\n",
       "    </tr>\n",
       "  </thead>\n",
       "  <tbody>\n",
       "    <tr>\n",
       "      <th>0</th>\n",
       "      <td>BMW</td>\n",
       "      <td>1 Series M</td>\n",
       "      <td>2011</td>\n",
       "      <td>335</td>\n",
       "      <td>6</td>\n",
       "      <td>MANUAL</td>\n",
       "      <td>rear wheel drive</td>\n",
       "      <td>Compact</td>\n",
       "      <td>Coupe</td>\n",
       "      <td>26</td>\n",
       "      <td>19</td>\n",
       "      <td>3916</td>\n",
       "      <td>46135</td>\n",
       "    </tr>\n",
       "    <tr>\n",
       "      <th>1</th>\n",
       "      <td>BMW</td>\n",
       "      <td>1 Series</td>\n",
       "      <td>2011</td>\n",
       "      <td>300</td>\n",
       "      <td>6</td>\n",
       "      <td>MANUAL</td>\n",
       "      <td>rear wheel drive</td>\n",
       "      <td>Compact</td>\n",
       "      <td>Convertible</td>\n",
       "      <td>28</td>\n",
       "      <td>19</td>\n",
       "      <td>3916</td>\n",
       "      <td>40650</td>\n",
       "    </tr>\n",
       "    <tr>\n",
       "      <th>2</th>\n",
       "      <td>BMW</td>\n",
       "      <td>1 Series</td>\n",
       "      <td>2011</td>\n",
       "      <td>300</td>\n",
       "      <td>6</td>\n",
       "      <td>MANUAL</td>\n",
       "      <td>rear wheel drive</td>\n",
       "      <td>Compact</td>\n",
       "      <td>Coupe</td>\n",
       "      <td>28</td>\n",
       "      <td>20</td>\n",
       "      <td>3916</td>\n",
       "      <td>36350</td>\n",
       "    </tr>\n",
       "    <tr>\n",
       "      <th>3</th>\n",
       "      <td>BMW</td>\n",
       "      <td>1 Series</td>\n",
       "      <td>2011</td>\n",
       "      <td>230</td>\n",
       "      <td>6</td>\n",
       "      <td>MANUAL</td>\n",
       "      <td>rear wheel drive</td>\n",
       "      <td>Compact</td>\n",
       "      <td>Coupe</td>\n",
       "      <td>28</td>\n",
       "      <td>18</td>\n",
       "      <td>3916</td>\n",
       "      <td>29450</td>\n",
       "    </tr>\n",
       "    <tr>\n",
       "      <th>4</th>\n",
       "      <td>BMW</td>\n",
       "      <td>1 Series</td>\n",
       "      <td>2011</td>\n",
       "      <td>230</td>\n",
       "      <td>6</td>\n",
       "      <td>MANUAL</td>\n",
       "      <td>rear wheel drive</td>\n",
       "      <td>Compact</td>\n",
       "      <td>Convertible</td>\n",
       "      <td>28</td>\n",
       "      <td>18</td>\n",
       "      <td>3916</td>\n",
       "      <td>34500</td>\n",
       "    </tr>\n",
       "  </tbody>\n",
       "</table>\n",
       "</div>"
      ],
      "text/plain": [
       "  Make       Model  Year  Engine HP  Engine Cylinders Transmission Type  \\\n",
       "0  BMW  1 Series M  2011        335                 6            MANUAL   \n",
       "1  BMW    1 Series  2011        300                 6            MANUAL   \n",
       "2  BMW    1 Series  2011        300                 6            MANUAL   \n",
       "3  BMW    1 Series  2011        230                 6            MANUAL   \n",
       "4  BMW    1 Series  2011        230                 6            MANUAL   \n",
       "\n",
       "      Driven_Wheels Vehicle Size Vehicle Style  highway MPG  city mpg  \\\n",
       "0  rear wheel drive      Compact         Coupe           26        19   \n",
       "1  rear wheel drive      Compact   Convertible           28        19   \n",
       "2  rear wheel drive      Compact         Coupe           28        20   \n",
       "3  rear wheel drive      Compact         Coupe           28        18   \n",
       "4  rear wheel drive      Compact   Convertible           28        18   \n",
       "\n",
       "   Popularity   MSRP  \n",
       "0        3916  46135  \n",
       "1        3916  40650  \n",
       "2        3916  36350  \n",
       "3        3916  29450  \n",
       "4        3916  34500  "
      ]
     },
     "execution_count": 5,
     "metadata": {},
     "output_type": "execute_result"
    }
   ],
   "source": [
    "df = df.drop(['Engine Fuel Type', 'Market Category', 'Number of Doors'], axis=1)\n",
    "\n",
    "df.head(5)"
   ]
  },
  {
   "cell_type": "markdown",
   "id": "c438681e",
   "metadata": {},
   "source": [
    "##### 5. Renaming certain column names for better readability and usability"
   ]
  },
  {
   "cell_type": "code",
   "execution_count": 6,
   "id": "7a3506ce",
   "metadata": {},
   "outputs": [
    {
     "data": {
      "text/html": [
       "<div>\n",
       "<style scoped>\n",
       "    .dataframe tbody tr th:only-of-type {\n",
       "        vertical-align: middle;\n",
       "    }\n",
       "\n",
       "    .dataframe tbody tr th {\n",
       "        vertical-align: top;\n",
       "    }\n",
       "\n",
       "    .dataframe thead th {\n",
       "        text-align: right;\n",
       "    }\n",
       "</style>\n",
       "<table border=\"1\" class=\"dataframe\">\n",
       "  <thead>\n",
       "    <tr style=\"text-align: right;\">\n",
       "      <th></th>\n",
       "      <th>Make</th>\n",
       "      <th>Model</th>\n",
       "      <th>Year</th>\n",
       "      <th>HP</th>\n",
       "      <th>Cylinders</th>\n",
       "      <th>Transmission</th>\n",
       "      <th>Drive Mode</th>\n",
       "      <th>Vehicle Size</th>\n",
       "      <th>Vehicle Style</th>\n",
       "      <th>MPG-H</th>\n",
       "      <th>MPG-C</th>\n",
       "      <th>Popularity</th>\n",
       "      <th>Price</th>\n",
       "    </tr>\n",
       "  </thead>\n",
       "  <tbody>\n",
       "    <tr>\n",
       "      <th>0</th>\n",
       "      <td>BMW</td>\n",
       "      <td>1 Series M</td>\n",
       "      <td>2011</td>\n",
       "      <td>335</td>\n",
       "      <td>6</td>\n",
       "      <td>MANUAL</td>\n",
       "      <td>rear wheel drive</td>\n",
       "      <td>Compact</td>\n",
       "      <td>Coupe</td>\n",
       "      <td>26</td>\n",
       "      <td>19</td>\n",
       "      <td>3916</td>\n",
       "      <td>46135</td>\n",
       "    </tr>\n",
       "    <tr>\n",
       "      <th>1</th>\n",
       "      <td>BMW</td>\n",
       "      <td>1 Series</td>\n",
       "      <td>2011</td>\n",
       "      <td>300</td>\n",
       "      <td>6</td>\n",
       "      <td>MANUAL</td>\n",
       "      <td>rear wheel drive</td>\n",
       "      <td>Compact</td>\n",
       "      <td>Convertible</td>\n",
       "      <td>28</td>\n",
       "      <td>19</td>\n",
       "      <td>3916</td>\n",
       "      <td>40650</td>\n",
       "    </tr>\n",
       "    <tr>\n",
       "      <th>2</th>\n",
       "      <td>BMW</td>\n",
       "      <td>1 Series</td>\n",
       "      <td>2011</td>\n",
       "      <td>300</td>\n",
       "      <td>6</td>\n",
       "      <td>MANUAL</td>\n",
       "      <td>rear wheel drive</td>\n",
       "      <td>Compact</td>\n",
       "      <td>Coupe</td>\n",
       "      <td>28</td>\n",
       "      <td>20</td>\n",
       "      <td>3916</td>\n",
       "      <td>36350</td>\n",
       "    </tr>\n",
       "    <tr>\n",
       "      <th>3</th>\n",
       "      <td>BMW</td>\n",
       "      <td>1 Series</td>\n",
       "      <td>2011</td>\n",
       "      <td>230</td>\n",
       "      <td>6</td>\n",
       "      <td>MANUAL</td>\n",
       "      <td>rear wheel drive</td>\n",
       "      <td>Compact</td>\n",
       "      <td>Coupe</td>\n",
       "      <td>28</td>\n",
       "      <td>18</td>\n",
       "      <td>3916</td>\n",
       "      <td>29450</td>\n",
       "    </tr>\n",
       "    <tr>\n",
       "      <th>4</th>\n",
       "      <td>BMW</td>\n",
       "      <td>1 Series</td>\n",
       "      <td>2011</td>\n",
       "      <td>230</td>\n",
       "      <td>6</td>\n",
       "      <td>MANUAL</td>\n",
       "      <td>rear wheel drive</td>\n",
       "      <td>Compact</td>\n",
       "      <td>Convertible</td>\n",
       "      <td>28</td>\n",
       "      <td>18</td>\n",
       "      <td>3916</td>\n",
       "      <td>34500</td>\n",
       "    </tr>\n",
       "  </tbody>\n",
       "</table>\n",
       "</div>"
      ],
      "text/plain": [
       "  Make       Model  Year   HP  Cylinders Transmission        Drive Mode  \\\n",
       "0  BMW  1 Series M  2011  335          6       MANUAL  rear wheel drive   \n",
       "1  BMW    1 Series  2011  300          6       MANUAL  rear wheel drive   \n",
       "2  BMW    1 Series  2011  300          6       MANUAL  rear wheel drive   \n",
       "3  BMW    1 Series  2011  230          6       MANUAL  rear wheel drive   \n",
       "4  BMW    1 Series  2011  230          6       MANUAL  rear wheel drive   \n",
       "\n",
       "  Vehicle Size Vehicle Style  MPG-H  MPG-C  Popularity  Price  \n",
       "0      Compact         Coupe     26     19        3916  46135  \n",
       "1      Compact   Convertible     28     19        3916  40650  \n",
       "2      Compact         Coupe     28     20        3916  36350  \n",
       "3      Compact         Coupe     28     18        3916  29450  \n",
       "4      Compact   Convertible     28     18        3916  34500  "
      ]
     },
     "execution_count": 6,
     "metadata": {},
     "output_type": "execute_result"
    }
   ],
   "source": [
    "df = df.rename(columns={\"Engine HP\": \"HP\", \n",
    "                        \"Engine Cylinders\": \"Cylinders\", \n",
    "                        \"Transmission Type\": \"Transmission\", \n",
    "                        \"Driven_Wheels\": \"Drive Mode\",\n",
    "                        \"highway MPG\": \"MPG-H\", \n",
    "                        \"city mpg\": \"MPG-C\", \n",
    "                        \"MSRP\": \"Price\" })\n",
    "\n",
    "df.head(5)"
   ]
  },
  {
   "cell_type": "markdown",
   "id": "61072e8a",
   "metadata": {},
   "source": [
    "##### 6. Cleaning Data\n"
   ]
  },
  {
   "cell_type": "code",
   "execution_count": 7,
   "id": "f29308f4",
   "metadata": {},
   "outputs": [
    {
     "name": "stdout",
     "output_type": "stream",
     "text": [
      "Total duplicate rows  (792, 13)\n"
     ]
    }
   ],
   "source": [
    "#indentifying duplicate rows\n",
    "\n",
    "duplicate_df = df[df.duplicated()]\n",
    "print(\"Total duplicate rows \", duplicate_df.shape)"
   ]
  },
  {
   "cell_type": "code",
   "execution_count": 8,
   "id": "cf9b98d4",
   "metadata": {},
   "outputs": [
    {
     "data": {
      "text/plain": [
       "Make             11914\n",
       "Model            11914\n",
       "Year             11914\n",
       "HP               11845\n",
       "Cylinders        11884\n",
       "Transmission     11914\n",
       "Drive Mode       11914\n",
       "Vehicle Size     11914\n",
       "Vehicle Style    11914\n",
       "MPG-H            11914\n",
       "MPG-C            11914\n",
       "Popularity       11914\n",
       "Price            11914\n",
       "dtype: int64"
      ]
     },
     "execution_count": 8,
     "metadata": {},
     "output_type": "execute_result"
    }
   ],
   "source": [
    "# counting number of rows\n",
    "df.count()"
   ]
  },
  {
   "cell_type": "code",
   "execution_count": 9,
   "id": "4c43e42d",
   "metadata": {},
   "outputs": [
    {
     "data": {
      "text/plain": [
       "Make             11122\n",
       "Model            11122\n",
       "Year             11122\n",
       "HP               11053\n",
       "Cylinders        11092\n",
       "Transmission     11122\n",
       "Drive Mode       11122\n",
       "Vehicle Size     11122\n",
       "Vehicle Style    11122\n",
       "MPG-H            11122\n",
       "MPG-C            11122\n",
       "Popularity       11122\n",
       "Price            11122\n",
       "dtype: int64"
      ]
     },
     "execution_count": 9,
     "metadata": {},
     "output_type": "execute_result"
    }
   ],
   "source": [
    "# removing duplicate rows\n",
    "df = df.drop_duplicates()\n",
    "\n",
    "df.count()"
   ]
  },
  {
   "cell_type": "code",
   "execution_count": 10,
   "id": "c87524f8",
   "metadata": {},
   "outputs": [
    {
     "name": "stdout",
     "output_type": "stream",
     "text": [
      "Make              0\n",
      "Model             0\n",
      "Year              0\n",
      "HP               69\n",
      "Cylinders        30\n",
      "Transmission      0\n",
      "Drive Mode        0\n",
      "Vehicle Size      0\n",
      "Vehicle Style     0\n",
      "MPG-H             0\n",
      "MPG-C             0\n",
      "Popularity        0\n",
      "Price             0\n",
      "dtype: int64\n"
     ]
    }
   ],
   "source": [
    "# identifying columns with null values\n",
    "\n",
    "print(df.isnull().sum())"
   ]
  },
  {
   "cell_type": "code",
   "execution_count": 11,
   "id": "09547a0d",
   "metadata": {},
   "outputs": [
    {
     "data": {
      "text/plain": [
       "Make             11024\n",
       "Model            11024\n",
       "Year             11024\n",
       "HP               11024\n",
       "Cylinders        11024\n",
       "Transmission     11024\n",
       "Drive Mode       11024\n",
       "Vehicle Size     11024\n",
       "Vehicle Style    11024\n",
       "MPG-H            11024\n",
       "MPG-C            11024\n",
       "Popularity       11024\n",
       "Price            11024\n",
       "dtype: int64"
      ]
     },
     "execution_count": 11,
     "metadata": {},
     "output_type": "execute_result"
    }
   ],
   "source": [
    "# dropping null values\n",
    "\n",
    "df = df.dropna()\n",
    "\n",
    "df.count()"
   ]
  },
  {
   "cell_type": "code",
   "execution_count": 12,
   "id": "34939fda",
   "metadata": {},
   "outputs": [
    {
     "name": "stdout",
     "output_type": "stream",
     "text": [
      "Make             0\n",
      "Model            0\n",
      "Year             0\n",
      "HP               0\n",
      "Cylinders        0\n",
      "Transmission     0\n",
      "Drive Mode       0\n",
      "Vehicle Size     0\n",
      "Vehicle Style    0\n",
      "MPG-H            0\n",
      "MPG-C            0\n",
      "Popularity       0\n",
      "Price            0\n",
      "dtype: int64\n"
     ]
    }
   ],
   "source": [
    "# rechecking for null values to make sure data is cleaned\n",
    "\n",
    "print(df.isnull().sum())"
   ]
  },
  {
   "cell_type": "code",
   "execution_count": 14,
   "id": "3d78e14f",
   "metadata": {},
   "outputs": [
    {
     "data": {
      "text/plain": [
       "<AxesSubplot:xlabel='Price'>"
      ]
     },
     "execution_count": 14,
     "metadata": {},
     "output_type": "execute_result"
    },
    {
     "data": {
      "image/png": "[encoded data removed]",
      "text/plain": [
       "<Figure size 432x288 with 1 Axes>"
      ]
     },
     "metadata": {},
     "output_type": "display_data"
    }
   ],
   "source": [
    "# Detecting Outliers by plotting Boxplot graph\n",
    "\n",
    "sns.boxplot(x=df['Price'])"
   ]
  },
  {
   "cell_type": "code",
   "execution_count": 16,
   "id": "1b9bbe42",
   "metadata": {},
   "outputs": [
    {
     "data": {
      "text/plain": [
       "<AxesSubplot:xlabel='Cylinders'>"
      ]
     },
     "execution_count": 16,
     "metadata": {},
     "output_type": "execute_result"
    },
    {
     "data": {
      "image/png": "[encoded data removed]",
      "text/plain": [
       "<Figure size 432x288 with 1 Axes>"
      ]
     },
     "metadata": {},
     "output_type": "display_data"
    }
   ],
   "source": [
    "sns.boxplot(x=df['Cylinders'])"
   ]
  },
  {
   "cell_type": "code",
   "execution_count": 17,
   "id": "39989450",
   "metadata": {},
   "outputs": [
    {
     "data": {
      "text/plain": [
       "<AxesSubplot:xlabel='HP'>"
      ]
     },
     "execution_count": 17,
     "metadata": {},
     "output_type": "execute_result"
    },
    {
     "data": {
      "image/png": "[encoded data removed]",
      "text/plain": [
       "<Figure size 432x288 with 1 Axes>"
      ]
     },
     "metadata": {},
     "output_type": "display_data"
    }
   ],
   "source": [
    "sns.boxplot(x=df['HP'])"
   ]
  },
  {
   "cell_type": "code",
   "execution_count": 18,
   "id": "266d0cf4",
   "metadata": {},
   "outputs": [
    {
     "data": {
      "text/plain": [
       "<AxesSubplot:xlabel='MPG-H'>"
      ]
     },
     "execution_count": 18,
     "metadata": {},
     "output_type": "execute_result"
    },
    {
     "data": {
      "image/png": "[encoded data removed]",
      "text/plain": [
       "<Figure size 432x288 with 1 Axes>"
      ]
     },
     "metadata": {},
     "output_type": "display_data"
    }
   ],
   "source": [
    "sns.boxplot(x=df['MPG-H'])"
   ]
  },
  {
   "cell_type": "code",
   "execution_count": 19,
   "id": "2163b18d",
   "metadata": {},
   "outputs": [
    {
     "data": {
      "text/plain": [
       "<AxesSubplot:xlabel='MPG-C'>"
      ]
     },
     "execution_count": 19,
     "metadata": {},
     "output_type": "execute_result"
    },
    {
     "data": {
      "image/png": "[encoded data removed]",
      "text/plain": [
       "<Figure size 432x288 with 1 Axes>"
      ]
     },
     "metadata": {},
     "output_type": "display_data"
    }
   ],
   "source": [
    "sns.boxplot(x=df['MPG-C'])"
   ]
  },
  {
   "cell_type": "code",
   "execution_count": 20,
   "id": "a12e418e",
   "metadata": {},
   "outputs": [
    {
     "name": "stdout",
     "output_type": "stream",
     "text": [
      "Year               9.0\n",
      "HP               131.0\n",
      "Cylinders          2.0\n",
      "MPG-H              8.0\n",
      "MPG-C              6.0\n",
      "Popularity      1460.0\n",
      "Price         21426.25\n",
      "dtype: Float64\n"
     ]
    }
   ],
   "source": [
    "# Boxplot uses IQR to display data & outlier.\n",
    "\n",
    "# finding IQR for every column\n",
    "\n",
    "Q1 = df.quantile(0.25)\n",
    "Q3 = df.quantile(0.75)\n",
    "\n",
    "IQR = Q3 - Q1\n",
    "print(IQR)"
   ]
  },
  {
   "cell_type": "code",
   "execution_count": 24,
   "id": "a5b47f78",
   "metadata": {},
   "outputs": [
    {
     "data": {
      "text/plain": [
       "(8546, 13)"
      ]
     },
     "execution_count": 24,
     "metadata": {},
     "output_type": "execute_result"
    }
   ],
   "source": [
    "# removing outliers\n",
    "\n",
    "df = df[~((df < (Q1 - 1.5 * IQR)) |(df > (Q3 + 1.5 * IQR))).any(axis=1)]\n",
    "df.shape"
   ]
  },
  {
   "cell_type": "markdown",
   "id": "3e908b68",
   "metadata": {},
   "source": [
    "##### 7. Plotting various visuals to find patterns that can help with analysis"
   ]
  },
  {
   "cell_type": "code",
   "execution_count": 28,
   "id": "7ff0547b",
   "metadata": {},
   "outputs": [
    {
     "data": {
      "image/png": "[encoded data removed]",
      "text/plain": [
       "<Figure size 720x360 with 1 Axes>"
      ]
     },
     "metadata": {},
     "output_type": "display_data"
    }
   ],
   "source": [
    "# plotting a Bar Graph to find which manufactures makes highest number of cars\n",
    "\n",
    "df.Make.value_counts().nlargest(40).plot(kind='bar', figsize=(10,5))\n",
    "plt.title(\"Number of cars by Manufacturing Company\")\n",
    "plt.ylabel('Number of cars')\n",
    "plt.xlabel('Company'); # make column in data represents Company that manufactures car"
   ]
  },
  {
   "cell_type": "code",
   "execution_count": 29,
   "id": "4be7deab",
   "metadata": {},
   "outputs": [
    {
     "data": {
      "text/html": [
       "<div>\n",
       "<style scoped>\n",
       "    .dataframe tbody tr th:only-of-type {\n",
       "        vertical-align: middle;\n",
       "    }\n",
       "\n",
       "    .dataframe tbody tr th {\n",
       "        vertical-align: top;\n",
       "    }\n",
       "\n",
       "    .dataframe thead th {\n",
       "        text-align: right;\n",
       "    }\n",
       "</style>\n",
       "<table border=\"1\" class=\"dataframe\">\n",
       "  <thead>\n",
       "    <tr style=\"text-align: right;\">\n",
       "      <th></th>\n",
       "      <th>Year</th>\n",
       "      <th>HP</th>\n",
       "      <th>Cylinders</th>\n",
       "      <th>MPG-H</th>\n",
       "      <th>MPG-C</th>\n",
       "      <th>Popularity</th>\n",
       "      <th>Price</th>\n",
       "    </tr>\n",
       "  </thead>\n",
       "  <tbody>\n",
       "    <tr>\n",
       "      <th>Year</th>\n",
       "      <td>1.000000</td>\n",
       "      <td>0.325104</td>\n",
       "      <td>-0.106597</td>\n",
       "      <td>0.373319</td>\n",
       "      <td>0.335236</td>\n",
       "      <td>0.200710</td>\n",
       "      <td>0.591439</td>\n",
       "    </tr>\n",
       "    <tr>\n",
       "      <th>HP</th>\n",
       "      <td>0.325104</td>\n",
       "      <td>1.000000</td>\n",
       "      <td>0.734094</td>\n",
       "      <td>-0.453451</td>\n",
       "      <td>-0.554768</td>\n",
       "      <td>0.095161</td>\n",
       "      <td>0.745852</td>\n",
       "    </tr>\n",
       "    <tr>\n",
       "      <th>Cylinders</th>\n",
       "      <td>-0.106597</td>\n",
       "      <td>0.734094</td>\n",
       "      <td>1.000000</td>\n",
       "      <td>-0.691395</td>\n",
       "      <td>-0.746361</td>\n",
       "      <td>0.013373</td>\n",
       "      <td>0.389049</td>\n",
       "    </tr>\n",
       "    <tr>\n",
       "      <th>MPG-H</th>\n",
       "      <td>0.373319</td>\n",
       "      <td>-0.453451</td>\n",
       "      <td>-0.691395</td>\n",
       "      <td>1.000000</td>\n",
       "      <td>0.936978</td>\n",
       "      <td>0.093002</td>\n",
       "      <td>-0.121262</td>\n",
       "    </tr>\n",
       "    <tr>\n",
       "      <th>MPG-C</th>\n",
       "      <td>0.335236</td>\n",
       "      <td>-0.554768</td>\n",
       "      <td>-0.746361</td>\n",
       "      <td>0.936978</td>\n",
       "      <td>1.000000</td>\n",
       "      <td>0.081110</td>\n",
       "      <td>-0.197330</td>\n",
       "    </tr>\n",
       "    <tr>\n",
       "      <th>Popularity</th>\n",
       "      <td>0.200710</td>\n",
       "      <td>0.095161</td>\n",
       "      <td>0.013373</td>\n",
       "      <td>0.093002</td>\n",
       "      <td>0.081110</td>\n",
       "      <td>1.000000</td>\n",
       "      <td>0.113604</td>\n",
       "    </tr>\n",
       "    <tr>\n",
       "      <th>Price</th>\n",
       "      <td>0.591439</td>\n",
       "      <td>0.745852</td>\n",
       "      <td>0.389049</td>\n",
       "      <td>-0.121262</td>\n",
       "      <td>-0.197330</td>\n",
       "      <td>0.113604</td>\n",
       "      <td>1.000000</td>\n",
       "    </tr>\n",
       "  </tbody>\n",
       "</table>\n",
       "</div>"
      ],
      "text/plain": [
       "                Year        HP  Cylinders     MPG-H     MPG-C  Popularity  \\\n",
       "Year        1.000000  0.325104  -0.106597  0.373319  0.335236    0.200710   \n",
       "HP          0.325104  1.000000   0.734094 -0.453451 -0.554768    0.095161   \n",
       "Cylinders  -0.106597  0.734094   1.000000 -0.691395 -0.746361    0.013373   \n",
       "MPG-H       0.373319 -0.453451  -0.691395  1.000000  0.936978    0.093002   \n",
       "MPG-C       0.335236 -0.554768  -0.746361  0.936978  1.000000    0.081110   \n",
       "Popularity  0.200710  0.095161   0.013373  0.093002  0.081110    1.000000   \n",
       "Price       0.591439  0.745852   0.389049 -0.121262 -0.197330    0.113604   \n",
       "\n",
       "               Price  \n",
       "Year        0.591439  \n",
       "HP          0.745852  \n",
       "Cylinders   0.389049  \n",
       "MPG-H      -0.121262  \n",
       "MPG-C      -0.197330  \n",
       "Popularity  0.113604  \n",
       "Price       1.000000  "
      ]
     },
     "execution_count": 29,
     "metadata": {},
     "output_type": "execute_result"
    },
    {
     "data": {
      "image/png": "[encoded data removed]",
      "text/plain": [
       "<Figure size 720x360 with 2 Axes>"
      ]
     },
     "metadata": {},
     "output_type": "display_data"
    }
   ],
   "source": [
    "# plotting Heatmap to visualize the relation between the features\n",
    "\n",
    "plt.figure(figsize=(10,5))\n",
    "c= df.corr()\n",
    "sns.heatmap(c,cmap=\"BrBG\",annot=True)\n",
    "c"
   ]
  },
  {
   "cell_type": "code",
   "execution_count": 48,
   "id": "de991ebb",
   "metadata": {},
   "outputs": [
    {
     "data": {
      "image/png": "[encoded data removed]",
      "text/plain": [
       "<Figure size 432x288 with 1 Axes>"
      ]
     },
     "metadata": {},
     "output_type": "display_data"
    },
    {
     "data": {
      "image/png": "[encoded data removed]",
      "text/plain": [
       "<Figure size 432x288 with 1 Axes>"
      ]
     },
     "metadata": {},
     "output_type": "display_data"
    }
   ],
   "source": [
    "# Plotting scatterplot to find correlation between HP and Price\n",
    "\n",
    "fig, ax1 = plt.subplots()\n",
    "fig2, ax2 = plt.subplots()\n",
    "\n",
    "ax1.scatter(df['HP'], df['Price'])\n",
    "ax1.set_title('Data 1')\n",
    "ax1.set_xlabel('HP')\n",
    "ax1.set_ylabel('Price')\n",
    "\n",
    "ax2.scatter(df['Cylinders'], df['Price'])\n",
    "ax2.set_title('Data 2')\n",
    "ax2.set_xlabel('Cylinders')\n",
    "ax2.set_ylabel('Price')\n",
    "\n",
    "\n",
    "plt.show()"
   ]
  },
  {
   "cell_type": "markdown",
   "id": "8f314f92",
   "metadata": {},
   "source": [
    "##### 8. Performing ANOVA to find correlation between categorical and numerical features"
   ]
  },
  {
   "cell_type": "markdown",
   "id": "5fe98849",
   "metadata": {},
   "source": [
    "ANOVA hypothesis test\n",
    "\n",
    "* Null hypothesis(H0): The variables are not correlated with each other\n",
    "* P-value: The probability of Null hypothesis being true\n",
    "* Accept Null hypothesis if P-value>0.05. Means variables are NOT correlated\n",
    "* Reject Null hypothesis if P-value<0.05. Means variables are correlated"
   ]
  },
  {
   "cell_type": "code",
   "execution_count": 53,
   "id": "cc8d9449",
   "metadata": {},
   "outputs": [
    {
     "name": "stdout",
     "output_type": "stream",
     "text": [
      "P-Value for Anova is:  0.0\n"
     ]
    },
    {
     "name": "stderr",
     "output_type": "stream",
     "text": [
      "C:\\Users\\HP\\anaconda3\\lib\\site-packages\\scipy\\stats\\stats.py:3650: F_onewayConstantInputWarning: Each of the input arrays is constant;the F statistic is not defined or infinite\n",
      "  warnings.warn(F_onewayConstantInputWarning())\n"
     ]
    }
   ],
   "source": [
    "# f_oneway() function takes the group data as input and \n",
    "# returns F-statistic and P-value\n",
    "\n",
    "from scipy.stats import f_oneway\n",
    "\n",
    "# Running the one-way anova test between Popularity and Make (Company)\n",
    "# Assumption(H0) is that Make and Popularity are NOT correlated\n",
    "\n",
    "# Finds out the Popularity data for each Make as a list\n",
    "CategoryGroupLists = df.groupby('Make')['Popularity'].apply(list)\n",
    "\n",
    "# Performing the ANOVA test\n",
    "# We accept the Assumption(H0) only when P-Value > 0.05\n",
    "AnovaResults = f_oneway(*CategoryGroupLists)\n",
    "print('P-Value for Anova is: ', AnovaResults[1])"
   ]
  },
  {
   "cell_type": "markdown",
   "id": "b8c1b947",
   "metadata": {},
   "source": [
    "From above ANOVA test we got P-Value =0, which means Popularity is correlated to Make."
   ]
  },
  {
   "cell_type": "code",
   "execution_count": 58,
   "id": "bcf90a35",
   "metadata": {},
   "outputs": [
    {
     "name": "stdout",
     "output_type": "stream",
     "text": [
      "P-Value for Anova is:  0.0\n"
     ]
    }
   ],
   "source": [
    "# Running the one-way anova test between Price and Make\n",
    "# Assumption(H0) is that Make and Price are NOT correlated\n",
    "\n",
    "# Finds out the Price data for each Make as a list\n",
    "CategoryGroupLists = df.groupby('Make')['Price'].apply(list)\n",
    "\n",
    "# Performing the ANOVA test\n",
    "# We accept the Assumption(H0) only when P-Value > 0.05\n",
    "AnovaResults = f_oneway(*CategoryGroupLists)\n",
    "print('P-Value for Anova is: ', AnovaResults[1])"
   ]
  },
  {
   "cell_type": "markdown",
   "id": "10e39de5",
   "metadata": {},
   "source": [
    "From above ANOVA test we got P-Value =0, which means Price is correlated to Make."
   ]
  },
  {
   "cell_type": "markdown",
   "id": "897be617",
   "metadata": {},
   "source": [
    "## Findings\n",
    "\n",
    "1. Popularity of a car has no affect on its price.\n",
    "2. Horsepower (HP) is the only feature that affects the Price of a car. \n",
    "3. Brand does affect the popularity and price of a car.\n"
   ]
  }
 ],
 "metadata": {
  "kernelspec": {
   "display_name": "Python 3 (ipykernel)",
   "language": "python",
   "name": "python3"
  },
  "language_info": {
   "codemirror_mode": {
    "name": "ipython",
    "version": 3
   },
   "file_extension": ".py",
   "mimetype": "text/x-python",
   "name": "python",
   "nbconvert_exporter": "python",
   "pygments_lexer": "ipython3",
   "version": "3.9.12"
  }
 },
 "nbformat": 4,
 "nbformat_minor": 5
}
